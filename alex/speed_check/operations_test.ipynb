{
 "cells": [
  {
   "cell_type": "code",
   "execution_count": 7,
   "id": "ba22debf-a6a6-4c12-89bc-1a5d2ab89948",
   "metadata": {},
   "outputs": [],
   "source": [
    "import torch\n",
    "from torch import nn\n",
    "import numpy as np\n",
    "\n",
    "from timeit import default_timer as timer"
   ]
  },
  {
   "cell_type": "code",
   "execution_count": 43,
   "id": "2162f973-de51-4dcf-b7f1-8015f231fcee",
   "metadata": {},
   "outputs": [
    {
     "data": {
      "text/plain": [
       "(tensor([[0.8823, 0.9150, 0.3829, 0.9593, 0.3904, 0.6009],\n",
       "         [0.2566, 0.7936, 0.9408, 0.1332, 0.9346, 0.5936],\n",
       "         [0.8694, 0.5677, 0.7411, 0.4294, 0.8854, 0.5739],\n",
       "         [0.2666, 0.6274, 0.2696, 0.4414, 0.2969, 0.8317],\n",
       "         [0.1053, 0.2695, 0.3588, 0.1994, 0.5472, 0.0062]]),\n",
       " tensor([[0.3659, 0.7025, 0.3104, 0.0097, 0.6577, 0.1947],\n",
       "         [0.9506, 0.6887, 0.8174, 0.7575, 0.7492, 0.6874],\n",
       "         [0.2564, 0.0672, 0.9066, 0.9175, 0.4236, 0.7978],\n",
       "         [0.8594, 0.3660, 0.6949, 0.3343, 0.6681, 0.4951],\n",
       "         [0.3139, 0.7763, 0.7457, 0.5009, 0.4125, 0.1708]]))"
      ]
     },
     "execution_count": 43,
     "metadata": {},
     "output_type": "execute_result"
    }
   ],
   "source": [
    "# create random tensors\n",
    "torch.manual_seed(42)\n",
    "y_true = torch.rand(size=(1000,6))\n",
    "torch.manual_seed(22)\n",
    "y_pred = torch.rand(size=(1000,6))\n",
    "\n",
    "y_true[:5], y_pred[:5]"
   ]
  },
  {
   "cell_type": "code",
   "execution_count": 131,
   "id": "c55e0410-5e58-44bd-adf8-a9fb2cdf54f3",
   "metadata": {},
   "outputs": [],
   "source": [
    "y_true = torch.tensor([1, 3, 5]).unsqueeze(dim=1)\n",
    "y_pred = torch.tensor([1.1, 3.1, 5.1]).unsqueeze(dim=1)"
   ]
  },
  {
   "cell_type": "code",
   "execution_count": 26,
   "id": "70f24066-39ec-40e3-8e7e-46aa4ae7c33f",
   "metadata": {},
   "outputs": [
    {
     "name": "stdout",
     "output_type": "stream",
     "text": [
      "time taken = 0.00174 seconds\n"
     ]
    }
   ],
   "source": [
    "start = timer()\n",
    "\n",
    "# Calculate element-wise squared differences\n",
    "squared_diffs = (y_true - y_pred) ** 2\n",
    "# Compute RMSE for each element\n",
    "rmse = np.sqrt(squared_diffs)\n",
    "loss = rmse / (y_true + 1e-20)\n",
    "output = abs(loss.sum())\n",
    "\n",
    "end = timer()\n",
    "time_elapsed = end - start\n",
    "print(f\"time taken = {time_elapsed:.5f} seconds\")"
   ]
  },
  {
   "cell_type": "code",
   "execution_count": 40,
   "id": "13eb9b62-eef6-46a4-9648-c758c53d1581",
   "metadata": {},
   "outputs": [
    {
     "name": "stdout",
     "output_type": "stream",
     "text": [
      "time taken = 0.00085 seconds\n"
     ]
    },
    {
     "data": {
      "text/plain": [
       "tensor(6637.5918)"
      ]
     },
     "execution_count": 40,
     "metadata": {},
     "output_type": "execute_result"
    }
   ],
   "source": [
    "start = timer()\n",
    "\n",
    "# Compute RMSE for each element\n",
    "rmse = torch.nn.functional.mse_loss(y_pred, y_true)\n",
    "loss = rmse / (y_true + 1e-20)\n",
    "output = loss.sum().abs()\n",
    "\n",
    "end = timer()\n",
    "time_elapsed = end - start\n",
    "print(f\"time taken = {time_elapsed:.5f} seconds\")\n",
    "\n",
    "output"
   ]
  },
  {
   "cell_type": "code",
   "execution_count": 160,
   "id": "7f0ceb59-2ac4-4e08-96e4-51c9e3a3707e",
   "metadata": {},
   "outputs": [
    {
     "data": {
      "text/plain": [
       "(tensor([[-1.2247e+00],\n",
       "         [-2.4333e-08],\n",
       "         [ 1.2247e+00]]),\n",
       " tensor([[-1.2860],\n",
       "         [-0.0612],\n",
       "         [ 1.1635]]),\n",
       " torch.float32)"
      ]
     },
     "execution_count": 160,
     "metadata": {},
     "output_type": "execute_result"
    }
   ],
   "source": [
    "from sklearn.preprocessing import StandardScaler\n",
    "\n",
    "y_data_scalar = StandardScaler()\n",
    "y_pred_scaled = y_data_scalar.fit_transform(y_pred)\n",
    "y_true_scaled = y_data_scalar.transform(y_true)\n",
    "\n",
    "y_pred_scaled = torch.tensor(y_pred_scaled, dtype=torch.float32)\n",
    "y_true_scaled = torch.tensor(y_true_scaled, dtype=torch.float32)\n",
    "\n",
    "y_pred_scaled[:5], y_true_scaled[:5], y_pred_scaled.dtype"
   ]
  },
  {
   "cell_type": "code",
   "execution_count": 151,
   "id": "eac08232-4633-4b19-8f77-e300e09d719c",
   "metadata": {},
   "outputs": [
    {
     "data": {
      "text/plain": [
       "0.2999998101560677"
      ]
     },
     "execution_count": 151,
     "metadata": {},
     "output_type": "execute_result"
    }
   ],
   "source": [
    "import numpy as np\n",
    "\n",
    "def compute_validation_loss(y_true, y_pred, y_data_scalar):\n",
    "\n",
    "    y_true.numpy()\n",
    "    y_pred.numpy()\n",
    "\n",
    "    y_true = y_data_scalar.inverse_transform(y_true)\n",
    "    y_pred = y_data_scalar.inverse_transform(y_pred)\n",
    "    # Calculate element-wise squared differences\n",
    "    squared_diffs = (y_true - y_pred) ** 2\n",
    "\n",
    "    # Compute RMSE for each element\n",
    "    rmse = np.sqrt(squared_diffs)\n",
    "\n",
    "    loss = rmse/(y_true + 1e-20)\n",
    "    return abs(rmse.sum())\n",
    "\n",
    "compute_validation_loss(y_true_scaled, y_pred_scaled, y_data_scalar)"
   ]
  },
  {
   "cell_type": "code",
   "execution_count": 150,
   "id": "cea3fa2e-a5ea-4768-a0db-b735994ec206",
   "metadata": {},
   "outputs": [
    {
     "data": {
      "text/plain": [
       "tensor(0.1533)"
      ]
     },
     "execution_count": 150,
     "metadata": {},
     "output_type": "execute_result"
    }
   ],
   "source": [
    "from torch import nn\n",
    "\n",
    "class CustomLossFunction(nn.Module):\n",
    "    def __init__(self):\n",
    "        super(CustomLossFunction, self).__init__()\n",
    "        self.mse = nn.MSELoss(reduction='none')\n",
    "\n",
    "    def forward(self, y_true, y_pred):\n",
    "        # Calculate MSE\n",
    "        mse = self.mse(y_true, y_pred)\n",
    "        # Calculate RMSE\n",
    "        rmse = torch.sqrt(mse + 1e-8)\n",
    "\n",
    "        loss = rmse / (y_true + 1e-20)\n",
    "        # Calculate custom loss\n",
    "        # Reduce the loss to a single scalar\n",
    "        return loss.sum()\n",
    "\n",
    "LossCalc = CustomLossFunction()\n",
    "\n",
    "LossCalc(y_true, y_pred)"
   ]
  },
  {
   "cell_type": "code",
   "execution_count": 154,
   "id": "74d24b0e-825b-4514-a4c1-135e9448cc29",
   "metadata": {},
   "outputs": [
    {
     "data": {
      "text/plain": [
       "tensor(0.0100)"
      ]
     },
     "execution_count": 154,
     "metadata": {},
     "output_type": "execute_result"
    }
   ],
   "source": [
    "from torch import nn\n",
    "\n",
    "LossCalc = nn.MSELoss(reduction=\"mean\")\n",
    "LossCalc(y_true, y_pred)"
   ]
  }
 ],
 "metadata": {
  "kernelspec": {
   "display_name": "Python 3 (ipykernel)",
   "language": "python",
   "name": "python3"
  },
  "language_info": {
   "codemirror_mode": {
    "name": "ipython",
    "version": 3
   },
   "file_extension": ".py",
   "mimetype": "text/x-python",
   "name": "python",
   "nbconvert_exporter": "python",
   "pygments_lexer": "ipython3",
   "version": "3.12.4"
  }
 },
 "nbformat": 4,
 "nbformat_minor": 5
}
